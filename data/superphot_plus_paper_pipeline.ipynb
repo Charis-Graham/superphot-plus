{
 "cells": [
  {
   "cell_type": "markdown",
   "id": "ed54c832-84cb-49d0-99c1-9922865969d9",
   "metadata": {
    "tags": []
   },
   "source": [
    "# Full Superphot+ pipeline for paper"
   ]
  },
  {
   "cell_type": "markdown",
   "id": "c4b94b0d-7444-4b1f-a615-c254341250be",
   "metadata": {},
   "source": [
    "## Step 1: Import light curves from CSV."
   ]
  },
  {
   "cell_type": "code",
   "execution_count": 1,
   "id": "b85fbb1e-9c6f-49b4-aaf4-1b17fe500473",
   "metadata": {
    "tags": []
   },
   "outputs": [],
   "source": [
    "alerce_flux_files_dir = \"alerce_datafiles\"\n",
    "dataset_csv = \"combined_classified_05_09_2023.csv\""
   ]
  },
  {
   "cell_type": "code",
   "execution_count": 2,
   "id": "c4f5de84-bc03-441e-9fa1-9455fa1a081e",
   "metadata": {
    "tags": []
   },
   "outputs": [],
   "source": [
    "from superphot_plus.data_generation.alerce import generate_flux_files\n",
    "generate_flux_files(dataset_csv, alerce_flux_files_dir)"
   ]
  },
  {
   "cell_type": "code",
   "execution_count": 3,
   "id": "10d9c068-f3f0-4a5a-8d87-50cfaad9b15d",
   "metadata": {},
   "outputs": [],
   "source": [
    "#unclassified dataset\n",
    "unclassified_training_csv = \"training_set_unclassified_overlap.csv\"\n",
    "generate_flux_files(unclassified_training_csv, alerce_flux_files_dir)"
   ]
  },
  {
   "cell_type": "code",
   "execution_count": 4,
   "id": "4be8ff61-b7a5-45c5-8f1d-037719d04c04",
   "metadata": {
    "tags": []
   },
   "outputs": [
    {
     "data": {
      "text/plain": [
       "'\\nfor fn in glob.glob(os.path.join(alerce_flux_files_dir, \"*.csv\")):\\n    name = fn.split(\"/\")[-1][:-4]\\n    if os.path.exists(os.path.join(import_lc_dir, name+\".npz\")):\\n        continue\\n    t, f, ferr, b, ra, dec = import_lc(fn)\\n    if t is not None:\\n        save_datafile(name, t, f, ferr, b, import_lc_dir)\\n'"
      ]
     },
     "execution_count": 4,
     "metadata": {},
     "output_type": "execute_result"
    }
   ],
   "source": [
    "# Then clip/remove nan values/etc.\n",
    "import glob, os\n",
    "from superphot_plus.import_utils import import_lc, save_datafile, add_to_new_csv\n",
    "import_lc_dir = \"reformatted_datafiles/\"\n",
    "\n",
    "\"\"\"\n",
    "for fn in glob.glob(os.path.join(alerce_flux_files_dir, \"*.csv\")):\n",
    "    name = fn.split(\"/\")[-1][:-4]\n",
    "    if os.path.exists(os.path.join(import_lc_dir, name+\".npz\")):\n",
    "        continue\n",
    "    t, f, ferr, b, ra, dec = import_lc(fn)\n",
    "    if t is not None:\n",
    "        save_datafile(name, t, f, ferr, b, import_lc_dir)\n",
    "\"\"\""
   ]
  },
  {
   "cell_type": "markdown",
   "id": "9d538d9f-5d1f-494e-a741-588b4137e696",
   "metadata": {},
   "source": [
    "## Step 2: Fit light curves"
   ]
  },
  {
   "cell_type": "code",
   "execution_count": 5,
   "id": "2d9a3f03-2cc9-4220-b77e-c4662a4c3f28",
   "metadata": {
    "tags": []
   },
   "outputs": [
    {
     "data": {
      "text/plain": [
       "'\\ndynesty_sampler = DynestySampler()\\nfor fn in glob.glob(os.path.join(import_lc_dir, \"*.npz\")):\\n    name = fn.split(\"/\")[-1][:-4]\\n    if os.path.exists(os.path.join(dynesty_fit_folder, name+\"_eqwt_dynesty.npz\")):\\n        continue\\n    lc = Lightcurve.from_file(fn)\\n    priors = Survey.ZTF().priors\\n    samples = dynesty_sampler.run_single_curve(lc, priors)\\n    samples.save_to_file(dynesty_fit_folder)\\n'"
      ]
     },
     "execution_count": 5,
     "metadata": {},
     "output_type": "execute_result"
    }
   ],
   "source": [
    "# dynesty\n",
    "dynesty_fit_folder = \"dynesty_fits\"\n",
    "from superphot_plus.samplers.dynesty_sampler import DynestySampler\n",
    "from superphot_plus.lightcurve import Lightcurve\n",
    "from superphot_plus.surveys.surveys import Survey\n",
    "from superphot_plus.posterior_samples import PosteriorSamples\n",
    "\n",
    "\"\"\"\n",
    "dynesty_sampler = DynestySampler()\n",
    "for fn in glob.glob(os.path.join(import_lc_dir, \"*.npz\")):\n",
    "    name = fn.split(\"/\")[-1][:-4]\n",
    "    if os.path.exists(os.path.join(dynesty_fit_folder, name+\"_eqwt_dynesty.npz\")):\n",
    "        continue\n",
    "    lc = Lightcurve.from_file(fn)\n",
    "    priors = Survey.ZTF().priors\n",
    "    samples = dynesty_sampler.run_single_curve(lc, priors)\n",
    "    samples.save_to_file(dynesty_fit_folder)\n",
    "\"\"\""
   ]
  },
  {
   "cell_type": "markdown",
   "id": "a05f9ed9-eee3-4618-bc23-3d4f1dcd7c93",
   "metadata": {},
   "source": [
    "## Step 3: Create training CSV for classifier"
   ]
  },
  {
   "cell_type": "code",
   "execution_count": 6,
   "id": "28ccc6e4-9ec2-4446-be54-2b1f4d04e611",
   "metadata": {
    "tags": []
   },
   "outputs": [],
   "source": [
    "import pandas as pd\n",
    "from superphot_plus.file_utils import has_posterior_samples\n",
    "from superphot_plus.import_utils import add_to_new_csv\n",
    "\n",
    "training_csv = \"training_set.csv\"\n",
    "orig_dataset = pd.read_csv(dataset_csv)\n",
    "names = orig_dataset.NAME\n",
    "labels = orig_dataset.CLASS\n",
    "redshifts = orig_dataset.Z\n",
    "\n",
    "with open(training_csv, 'w+') as tc:\n",
    "    tc.write(\"\")\n",
    "    \n",
    "names_uniq = []\n",
    "add_to_new_csv(\"NAME\", \"LABEL\", \"Z\", training_csv)\n",
    "for i, name in enumerate(names):\n",
    "    if has_posterior_samples(name, fits_dir=\"dynesty_fits\", sampler=\"dynesty\"):\n",
    "        if name in names_uniq:\n",
    "            continue\n",
    "        names_uniq.append(name)\n",
    "        add_to_new_csv(name, labels[i], redshifts[i], training_csv)\n",
    "        \n",
    "unclassified_training_fitted = \"training_set_unclassified_fitted.csv\"\n",
    "orig_dataset = pd.read_csv(unclassified_training_csv)\n",
    "names = orig_dataset.NAME\n",
    "labels = orig_dataset.CLASS\n",
    "redshifts = orig_dataset.Z\n",
    "\n",
    "with open(unclassified_training_fitted, 'w+') as tc:\n",
    "    tc.write(\"\")\n",
    "    \n",
    "names_uniq = []\n",
    "add_to_new_csv(\"NAME\", \"LABEL\", \"Z\", unclassified_training_fitted)\n",
    "for i, name in enumerate(names):\n",
    "    if has_posterior_samples(name, fits_dir=\"dynesty_fits\", sampler=\"dynesty\"):\n",
    "        if name in names_uniq:\n",
    "            continue\n",
    "        names_uniq.append(name)\n",
    "        add_to_new_csv(name, labels[i], redshifts[i], unclassified_training_fitted)\n",
    "\n"
   ]
  },
  {
   "cell_type": "markdown",
   "id": "43437594-2f35-4bdb-bbb0-f13945c2b1bd",
   "metadata": {},
   "source": [
    "## Step 4: Train Classifier\n"
   ]
  },
  {
   "cell_type": "code",
   "execution_count": 7,
   "id": "7580545e-5e7b-48b2-a5db-c5ba30d16b70",
   "metadata": {
    "tags": []
   },
   "outputs": [
    {
     "data": {
      "text/plain": [
       "'\\nclassify(\\n    [training_csv,],\\n    dynesty_fit_folder,\\n    goal_per_class,\\n    num_epochs,\\n    neurons_per_layer,\\n    num_layers,\\n    log_file,\\n    num_folds=num_folds,\\n)\\n'"
      ]
     },
     "execution_count": 7,
     "metadata": {},
     "output_type": "execute_result"
    }
   ],
   "source": [
    "from superphot_plus.classify_ztf import classify\n",
    "\n",
    "num_epochs = 100\n",
    "num_folds = 5\n",
    "goal_per_class = 500\n",
    "neurons_per_layer = 128\n",
    "num_layers = 3\n",
    "log_file = \"classification_log.txt\"\n",
    "dynesty_fit_folder = \"dynesty_fits\"\n",
    "\n",
    "\"\"\"\n",
    "classify(\n",
    "    [training_csv,],\n",
    "    dynesty_fit_folder,\n",
    "    goal_per_class,\n",
    "    num_epochs,\n",
    "    neurons_per_layer,\n",
    "    num_layers,\n",
    "    log_file,\n",
    "    num_folds=num_folds,\n",
    ")\n",
    "\"\"\"\n",
    "\n"
   ]
  },
  {
   "cell_type": "markdown",
   "id": "58104008-c0f7-41c4-b98e-df73433cb29d",
   "metadata": {},
   "source": [
    "## Step 5: Train redshift-inclusive classifier"
   ]
  },
  {
   "cell_type": "code",
   "execution_count": 8,
   "id": "bee34364-5d28-43b4-930f-140267c18cb2",
   "metadata": {},
   "outputs": [
    {
     "data": {
      "text/plain": [
       "'\\nclassify(\\n    [training_csv,],\\n    dynesty_fit_folder,\\n    goal_per_class,\\n    num_epochs,\\n    neurons_per_layer,\\n    num_layers,\\n    log_file,\\n    include_redshift=True,\\n    num_folds=num_folds,\\n    metrics_dir=\"./figs/metrics_z\",\\n    models_dir=\"./models_z\",\\n    csv_path=\"probs_new_z.csv\",\\n    cm_folder=\"./figs/hp_cm_z\",\\n)\\n'"
      ]
     },
     "execution_count": 8,
     "metadata": {},
     "output_type": "execute_result"
    }
   ],
   "source": [
    "from superphot_plus.classify_ztf import classify\n",
    "\n",
    "\"\"\"\n",
    "classify(\n",
    "    [training_csv,],\n",
    "    dynesty_fit_folder,\n",
    "    goal_per_class,\n",
    "    num_epochs,\n",
    "    neurons_per_layer,\n",
    "    num_layers,\n",
    "    log_file,\n",
    "    include_redshift=True,\n",
    "    num_folds=num_folds,\n",
    "    metrics_dir=\"./figs/metrics_z\",\n",
    "    models_dir=\"./models_z\",\n",
    "    csv_path=\"probs_new_z.csv\",\n",
    "    cm_folder=\"./figs/hp_cm_z\",\n",
    ")\n",
    "\"\"\"\n",
    "\n"
   ]
  },
  {
   "cell_type": "markdown",
   "id": "b9ce01b4-8fa6-4617-a52a-5f25ae61f6a2",
   "metadata": {
    "tags": []
   },
   "source": [
    "## Step 6: Classify new supernovae"
   ]
  },
  {
   "cell_type": "code",
   "execution_count": 9,
   "id": "cabb141c-281d-4767-a7cf-59354695f35b",
   "metadata": {
    "tags": []
   },
   "outputs": [
    {
     "name": "stdout",
     "output_type": "stream",
     "text": [
      "probs_unclassified.csv\n",
      "OBJECT LIKELY NOT A SN\n",
      "OBJECT LIKELY NOT A SN\n",
      "OBJECT LIKELY NOT A SN\n",
      "OBJECT LIKELY NOT A SN\n",
      "OBJECT LIKELY NOT A SN\n",
      "OBJECT LIKELY NOT A SN\n",
      "OBJECT LIKELY NOT A SN\n",
      "OBJECT LIKELY NOT A SN\n",
      "OBJECT LIKELY NOT A SN\n",
      "OBJECT LIKELY NOT A SN\n",
      "OBJECT LIKELY NOT A SN\n",
      "OBJECT LIKELY NOT A SN\n",
      "OBJECT LIKELY NOT A SN\n",
      "OBJECT LIKELY NOT A SN\n",
      "OBJECT LIKELY NOT A SN\n",
      "OBJECT LIKELY NOT A SN\n",
      "OBJECT LIKELY NOT A SN\n",
      "OBJECT LIKELY NOT A SN\n",
      "OBJECT LIKELY NOT A SN\n",
      "OBJECT LIKELY NOT A SN\n",
      "OBJECT LIKELY NOT A SN\n",
      "OBJECT LIKELY NOT A SN\n",
      "OBJECT LIKELY NOT A SN\n",
      "OBJECT LIKELY NOT A SN\n",
      "OBJECT LIKELY NOT A SN\n",
      "OBJECT LIKELY NOT A SN\n",
      "OBJECT LIKELY NOT A SN\n",
      "OBJECT LIKELY NOT A SN\n",
      "OBJECT LIKELY NOT A SN\n",
      "OBJECT LIKELY NOT A SN\n",
      "OBJECT LIKELY NOT A SN\n",
      "OBJECT LIKELY NOT A SN\n",
      "OBJECT LIKELY NOT A SN\n",
      "OBJECT LIKELY NOT A SN\n",
      "OBJECT LIKELY NOT A SN\n",
      "OBJECT LIKELY NOT A SN\n",
      "OBJECT LIKELY NOT A SN\n",
      "OBJECT LIKELY NOT A SN\n",
      "OBJECT LIKELY NOT A SN\n",
      "OBJECT LIKELY NOT A SN\n",
      "OBJECT LIKELY NOT A SN\n",
      "OBJECT LIKELY NOT A SN\n",
      "OBJECT LIKELY NOT A SN\n",
      "OBJECT LIKELY NOT A SN\n",
      "OBJECT LIKELY NOT A SN\n",
      "OBJECT LIKELY NOT A SN\n",
      "OBJECT LIKELY NOT A SN\n",
      "OBJECT LIKELY NOT A SN\n",
      "OBJECT LIKELY NOT A SN\n",
      "OBJECT LIKELY NOT A SN\n",
      "OBJECT LIKELY NOT A SN\n",
      "OBJECT LIKELY NOT A SN\n",
      "OBJECT LIKELY NOT A SN\n",
      "OBJECT LIKELY NOT A SN\n",
      "OBJECT LIKELY NOT A SN\n",
      "OBJECT LIKELY NOT A SN\n",
      "OBJECT LIKELY NOT A SN\n",
      "OBJECT LIKELY NOT A SN\n",
      "OBJECT LIKELY NOT A SN\n",
      "OBJECT LIKELY NOT A SN\n",
      "OBJECT LIKELY NOT A SN\n",
      "OBJECT LIKELY NOT A SN\n",
      "OBJECT LIKELY NOT A SN\n",
      "OBJECT LIKELY NOT A SN\n",
      "OBJECT LIKELY NOT A SN\n",
      "OBJECT LIKELY NOT A SN\n",
      "OBJECT LIKELY NOT A SN\n",
      "OBJECT LIKELY NOT A SN\n",
      "OBJECT LIKELY NOT A SN\n",
      "OBJECT LIKELY NOT A SN\n",
      "OBJECT LIKELY NOT A SN\n",
      "OBJECT LIKELY NOT A SN\n",
      "OBJECT LIKELY NOT A SN\n",
      "OBJECT LIKELY NOT A SN\n",
      "OBJECT LIKELY NOT A SN\n",
      "OBJECT LIKELY NOT A SN\n",
      "OBJECT LIKELY NOT A SN\n",
      "OBJECT LIKELY NOT A SN\n",
      "OBJECT LIKELY NOT A SN\n",
      "OBJECT LIKELY NOT A SN\n",
      "OBJECT LIKELY NOT A SN\n",
      "OBJECT LIKELY NOT A SN\n",
      "OBJECT LIKELY NOT A SN\n",
      "OBJECT LIKELY NOT A SN\n",
      "OBJECT LIKELY NOT A SN\n",
      "OBJECT LIKELY NOT A SN\n",
      "OBJECT LIKELY NOT A SN\n",
      "OBJECT LIKELY NOT A SN\n",
      "OBJECT LIKELY NOT A SN\n",
      "OBJECT LIKELY NOT A SN\n",
      "OBJECT LIKELY NOT A SN\n",
      "OBJECT LIKELY NOT A SN\n",
      "OBJECT LIKELY NOT A SN\n",
      "OBJECT LIKELY NOT A SN\n",
      "OBJECT LIKELY NOT A SN\n",
      "OBJECT LIKELY NOT A SN\n",
      "OBJECT LIKELY NOT A SN\n",
      "OBJECT LIKELY NOT A SN\n",
      "OBJECT LIKELY NOT A SN\n",
      "OBJECT LIKELY NOT A SN\n",
      "OBJECT LIKELY NOT A SN\n",
      "OBJECT LIKELY NOT A SN\n",
      "OBJECT LIKELY NOT A SN\n",
      "OBJECT LIKELY NOT A SN\n",
      "OBJECT LIKELY NOT A SN\n",
      "OBJECT LIKELY NOT A SN\n",
      "OBJECT LIKELY NOT A SN\n",
      "OBJECT LIKELY NOT A SN\n",
      "OBJECT LIKELY NOT A SN\n",
      "OBJECT LIKELY NOT A SN\n",
      "OBJECT LIKELY NOT A SN\n",
      "OBJECT LIKELY NOT A SN\n",
      "OBJECT LIKELY NOT A SN\n",
      "OBJECT LIKELY NOT A SN\n",
      "OBJECT LIKELY NOT A SN\n",
      "OBJECT LIKELY NOT A SN\n",
      "OBJECT LIKELY NOT A SN\n",
      "OBJECT LIKELY NOT A SN\n",
      "OBJECT LIKELY NOT A SN\n",
      "OBJECT LIKELY NOT A SN\n",
      "OBJECT LIKELY NOT A SN\n",
      "OBJECT LIKELY NOT A SN\n",
      "OBJECT LIKELY NOT A SN\n",
      "OBJECT LIKELY NOT A SN\n",
      "OBJECT LIKELY NOT A SN\n",
      "OBJECT LIKELY NOT A SN\n",
      "OBJECT LIKELY NOT A SN\n",
      "OBJECT LIKELY NOT A SN\n",
      "OBJECT LIKELY NOT A SN\n",
      "OBJECT LIKELY NOT A SN\n",
      "OBJECT LIKELY NOT A SN\n",
      "OBJECT LIKELY NOT A SN\n",
      "OBJECT LIKELY NOT A SN\n",
      "OBJECT LIKELY NOT A SN\n",
      "OBJECT LIKELY NOT A SN\n",
      "OBJECT LIKELY NOT A SN\n",
      "OBJECT LIKELY NOT A SN\n",
      "OBJECT LIKELY NOT A SN\n",
      "OBJECT LIKELY NOT A SN\n",
      "OBJECT LIKELY NOT A SN\n",
      "OBJECT LIKELY NOT A SN\n",
      "OBJECT LIKELY NOT A SN\n",
      "OBJECT LIKELY NOT A SN\n",
      "OBJECT LIKELY NOT A SN\n",
      "OBJECT LIKELY NOT A SN\n",
      "OBJECT LIKELY NOT A SN\n",
      "OBJECT LIKELY NOT A SN\n",
      "OBJECT LIKELY NOT A SN\n",
      "OBJECT LIKELY NOT A SN\n",
      "OBJECT LIKELY NOT A SN\n",
      "OBJECT LIKELY NOT A SN\n",
      "OBJECT LIKELY NOT A SN\n",
      "OBJECT LIKELY NOT A SN\n",
      "OBJECT LIKELY NOT A SN\n",
      "OBJECT LIKELY NOT A SN\n",
      "OBJECT LIKELY NOT A SN\n",
      "OBJECT LIKELY NOT A SN\n",
      "OBJECT LIKELY NOT A SN\n",
      "OBJECT LIKELY NOT A SN\n",
      "OBJECT LIKELY NOT A SN\n"
     ]
    }
   ],
   "source": [
    "from superphot_plus.classify_ztf import return_new_classifications\n",
    "from superphot_plus.mlp import MLP, ModelConfig\n",
    "\n",
    "mlp_fn = glob.glob(\"./models/superphot-model-*.pt\")[0]\n",
    "mlp_prefix = mlp_fn.split(\"-\")[-1][:-3]\n",
    "mlp_config_fn = f\"./models/superphot-config-{mlp_prefix}.json\"\n",
    "save_file = \"probs_unclassified.csv\"\n",
    "model, _, _ = MLP.load(mlp_fn, mlp_config_fn, data=None)\n",
    "return_new_classifications(model, unclassified_training_fitted, dynesty_fit_folder, save_file, include_labels=True)"
   ]
  },
  {
   "cell_type": "markdown",
   "id": "1fd136be-5d03-4539-aaa1-6064606da790",
   "metadata": {},
   "source": [
    "## Step 6: Generate paper plots"
   ]
  },
  {
   "cell_type": "code",
   "execution_count": 10,
   "id": "657a2f95-6680-4397-a951-a004225d6891",
   "metadata": {
    "tags": []
   },
   "outputs": [],
   "source": [
    "probs_classified = \"probs_new.csv\"\n",
    "probs_unclassified = \"probs_unclassified.csv\"\n",
    "probs_unclassified_snr = \"probs_unclassified_snr.csv\"\n",
    "probs_snr = \"probs_snr.csv\"\n",
    "\n",
    "probs_classified_z = \"probs_new_z.csv\"\n",
    "probs_z_snr = \"probs_new_z_snr.csv\"\n",
    "\n",
    "from superphot_plus.plotting.utils import add_snr_to_prob_csv\n",
    "\n",
    "add_snr_to_prob_csv(probs_classified, import_lc_dir, probs_snr)\n",
    "add_snr_to_prob_csv(probs_unclassified, import_lc_dir, probs_unclassified_snr)\n",
    "add_snr_to_prob_csv(probs_classified_z, import_lc_dir, probs_z_snr)"
   ]
  },
  {
   "cell_type": "code",
   "execution_count": 11,
   "id": "5cfe4870-994e-42c5-8390-985ba5bcd480",
   "metadata": {
    "tags": []
   },
   "outputs": [],
   "source": [
    "# Figure 1\n",
    "from superphot_plus.plotting.lightcurves import plot_lightcurve_clipping\n",
    "\n",
    "fig_1_name = \"ZTF18aaqfqaa\"\n",
    "plot_lightcurve_clipping(fig_1_name, alerce_flux_files_dir, \"figs\")\n",
    "os.rename(f\"figs/lc_clip_demo_{fig_1_name}.pdf\", \"figs/fig1.pdf\")"
   ]
  },
  {
   "cell_type": "code",
   "execution_count": 12,
   "id": "539e2be4-3336-4c83-8378-9e1f962e366f",
   "metadata": {
    "tags": []
   },
   "outputs": [],
   "source": [
    "# Figure 2\n",
    "from superphot_plus.plotting.classifier_results import plot_snr_hist\n",
    "\n",
    "plot_snr_hist(probs_snr, \"figs\")\n",
    "os.rename(f\"figs/snr_hist.pdf\", \"figs/fig2.pdf\")"
   ]
  },
  {
   "cell_type": "code",
   "execution_count": 13,
   "id": "5acf2647-9e7b-4f57-ace6-253207fa464e",
   "metadata": {
    "tags": []
   },
   "outputs": [
    {
     "name": "stderr",
     "output_type": "stream",
     "text": [
      "/Users/kdesoto/conda_envs/superphot_env/lib/python3.10/site-packages/numpy/lib/histograms.py:885: RuntimeWarning: divide by zero encountered in divide\n",
      "  return n/db/n.sum(), bin_edges\n",
      "/Users/kdesoto/conda_envs/superphot_env/lib/python3.10/site-packages/numpy/lib/histograms.py:885: RuntimeWarning: invalid value encountered in divide\n",
      "  return n/db/n.sum(), bin_edges\n"
     ]
    }
   ],
   "source": [
    "# Figure 3\n",
    "from superphot_plus.plotting.classifier_results import compare_mag_distributions\n",
    "\n",
    "compare_mag_distributions(probs_snr, probs_unclassified_snr, \"figs\")\n",
    "os.rename(f\"figs/appm_hist_compare.pdf\", \"figs/fig3.pdf\")"
   ]
  },
  {
   "cell_type": "code",
   "execution_count": 14,
   "id": "fb46e0e2-9550-4201-8292-57708f0b6803",
   "metadata": {
    "tags": []
   },
   "outputs": [],
   "source": [
    "# Figure 4\n",
    "from superphot_plus.plotting.lightcurves import plot_lc_fit\n",
    "from superphot_plus.surveys.surveys import Survey\n",
    "import matplotlib.pyplot as plt\n",
    "\n",
    "def custom_container_fig4(sn_name, sn_type):\n",
    "    def custom_formatting_fig4():\n",
    "        plt.title(f\"{sn_name} ({sn_type})\")\n",
    "        \n",
    "    return custom_formatting_fig4\n",
    "\n",
    "os.makedirs(\"figs/fig4\", exist_ok=True)\n",
    "sn_types = [\"SN Ia\", \"SN Ia\", \"SN II\", \"SN IIn\", \"SLSN-I\", \"SN Ibc\"]\n",
    "sn_names = [\"ZTF23aacxofz\", \"ZTF23aagfpxq\", \"ZTF21aajgdeu\", ]\n",
    "\n",
    "ztf_priors = Survey.ZTF().priors\n",
    "\n",
    "for i, name in enumerate(sn_names):\n",
    "    cf = custom_container_fig4(name, sn_types[i])\n",
    "    plot_lc_fit(\n",
    "        name,\n",
    "        ztf_priors.reference_band,\n",
    "        ztf_priors.ordered_bands,\n",
    "        import_lc_dir,\n",
    "        dynesty_fit_folder,\n",
    "        \"figs/fig4\",\n",
    "        sampling_method=\"dynesty\",\n",
    "        file_type=\"pdf\",\n",
    "        custom_formatting=cf,\n",
    "    )"
   ]
  },
  {
   "cell_type": "code",
   "execution_count": 15,
   "id": "d58b4f85-7af5-4a9d-a82c-07d37dc2ed5b",
   "metadata": {
    "tags": []
   },
   "outputs": [],
   "source": [
    "# Figure 5\n",
    "from superphot_plus.plotting.sampling_results import plot_oversampling_1d\n",
    "from superphot_plus.plotting.utils import read_probs_csv\n",
    "\n",
    "names, labels, _, _ = read_probs_csv(probs_classified)\n",
    "plot_oversampling_1d(names, labels, dynesty_fit_folder, \"figs\")\n",
    "os.rename(f\"figs/all_1d_hists.pdf\", \"figs/fig5.pdf\")"
   ]
  },
  {
   "cell_type": "code",
   "execution_count": 16,
   "id": "34a8fcf6-a1a6-45a5-b172-d5a9b00a45f8",
   "metadata": {
    "tags": []
   },
   "outputs": [],
   "source": [
    "# Figure 6\n",
    "from superphot_plus.plotting.sampling_results import compare_oversampling\n",
    "from superphot_plus.supernova_class import SupernovaClass as SnClass\n",
    "\n",
    "\n",
    "compare_oversampling(\n",
    "    names,\n",
    "    labels,\n",
    "    dynesty_fit_folder,\n",
    "    \"figs\",\n",
    "    allowed_types=[\"SLSN-I\",],\n",
    "    aux_bands=Survey.ZTF().priors.aux_bands,\n",
    "    sampler=\"dynesty\",\n",
    "    goal_per_class=4000,\n",
    ")\n"
   ]
  },
  {
   "cell_type": "code",
   "execution_count": 17,
   "id": "919d787c-02e9-473a-83d6-7f68f289ceee",
   "metadata": {
    "tags": []
   },
   "outputs": [
    {
     "data": {
      "text/plain": [
       "'figs/fig7_p.pdf'"
      ]
     },
     "execution_count": 17,
     "metadata": {},
     "output_type": "execute_result"
    }
   ],
   "source": [
    "# Figure 7\n",
    "import shutil\n",
    "shutil.copy(f\"figs/hp_cm/cm_{goal_per_class}_{num_epochs}_{neurons_per_layer}_{num_layers}_c.pdf\", \"figs/fig7_c.pdf\")\n",
    "shutil.copy(f\"figs/hp_cm/cm_{goal_per_class}_{num_epochs}_{neurons_per_layer}_{num_layers}_p.pdf\", \"figs/fig7_p.pdf\")"
   ]
  },
  {
   "cell_type": "code",
   "execution_count": 18,
   "id": "434a53c2-9648-4158-94b8-5e662de95946",
   "metadata": {},
   "outputs": [],
   "source": [
    "# Figure 8"
   ]
  },
  {
   "cell_type": "code",
   "execution_count": 19,
   "id": "fe10bf25-dfef-41ed-ac10-8380cc9595e0",
   "metadata": {},
   "outputs": [],
   "source": [
    "# Figure 9"
   ]
  },
  {
   "cell_type": "code",
   "execution_count": 20,
   "id": "148d48cf-8cef-4995-b694-38cfd60a391f",
   "metadata": {
    "tags": []
   },
   "outputs": [],
   "source": [
    "# Figure 10\n",
    "from superphot_plus.plotting.classifier_results import plot_snr_npoints_vs_accuracy\n",
    "\n",
    "plot_snr_npoints_vs_accuracy(probs_snr, \"figs\")\n",
    "os.rename(\"figs/snr_vs_accuracy.pdf\", \"figs/fig10_snr.pdf\")\n",
    "os.rename(\"figs/n_vs_accuracy.pdf\", \"figs/fig10_npoints.pdf\")"
   ]
  },
  {
   "cell_type": "code",
   "execution_count": 21,
   "id": "7995c7ff-804d-4c16-94be-e58958752ba5",
   "metadata": {
    "tags": []
   },
   "outputs": [
    {
     "data": {
      "text/plain": [
       "'figs/fig11_p.pdf'"
      ]
     },
     "execution_count": 21,
     "metadata": {},
     "output_type": "execute_result"
    }
   ],
   "source": [
    "# Figure 11\n",
    "import shutil\n",
    "shutil.copy(f\"figs/hp_cm/cm_{goal_per_class}_{num_epochs}_{neurons_per_layer}_{num_layers}_c_p07.pdf\", \"figs/fig11_c.pdf\")\n",
    "shutil.copy(f\"figs/hp_cm/cm_{goal_per_class}_{num_epochs}_{neurons_per_layer}_{num_layers}_p_p07.pdf\", \"figs/fig11_p.pdf\")"
   ]
  },
  {
   "cell_type": "code",
   "execution_count": 22,
   "id": "27a8d208-44e0-485c-b55a-7dec316b6536",
   "metadata": {},
   "outputs": [],
   "source": [
    "# Figure 12\n",
    "from superphot_plus.plotting.classifier_results import generate_roc_curve\n",
    "\n",
    "generate_roc_curve(probs_classified, \"figs\")\n",
    "os.rename(\"figs/roc_all.pdf\", \"figs/fig12.pdf\")"
   ]
  },
  {
   "cell_type": "code",
   "execution_count": 23,
   "id": "e7427e72-3c2f-4e19-8632-c72fcc8d656d",
   "metadata": {
    "tags": []
   },
   "outputs": [
    {
     "name": "stdout",
     "output_type": "stream",
     "text": [
      "0: 3978\n",
      "1: 868\n",
      "3: 79\n",
      "2: 167\n",
      "4: 218\n",
      "\n",
      "0\n"
     ]
    }
   ],
   "source": [
    "# Figure 13\n",
    "from superphot_plus.plotting.classifier_results import plot_redshifts_abs_mags\n",
    "\n",
    "plot_redshifts_abs_mags(probs_snr, \"figs\")\n",
    "os.rename(\"figs/abs_mag_hist.pdf\", \"figs/fig13.pdf\")"
   ]
  },
  {
   "cell_type": "code",
   "execution_count": 24,
   "id": "5027ab14-97f0-4e7a-93e6-173f71fa0dc7",
   "metadata": {},
   "outputs": [
    {
     "data": {
      "text/plain": [
       "'figs/fig14_p.pdf'"
      ]
     },
     "execution_count": 24,
     "metadata": {},
     "output_type": "execute_result"
    }
   ],
   "source": [
    "# Figure 14 - redshift inclusive CM\n",
    "import shutil\n",
    "shutil.copy(f\"figs/hp_cm_z/cm_{goal_per_class}_{num_epochs}_{neurons_per_layer}_{num_layers}_c.pdf\", \"figs/fig14_c.pdf\")\n",
    "shutil.copy(f\"figs/hp_cm_z/cm_{goal_per_class}_{num_epochs}_{neurons_per_layer}_{num_layers}_p.pdf\", \"figs/fig14_p.pdf\")"
   ]
  },
  {
   "cell_type": "code",
   "execution_count": 25,
   "id": "ca72873d-df06-425a-9d4c-b7658ef0b75f",
   "metadata": {},
   "outputs": [
    {
     "data": {
      "text/plain": [
       "'figs/fig15_p.pdf'"
      ]
     },
     "execution_count": 25,
     "metadata": {},
     "output_type": "execute_result"
    }
   ],
   "source": [
    "# Figure 15 - redshift inclusive p > 0.7 CM\n",
    "import shutil\n",
    "shutil.copy(f\"figs/hp_cm_z/cm_{goal_per_class}_{num_epochs}_{neurons_per_layer}_{num_layers}_c_p07.pdf\", \"figs/fig15_c.pdf\")\n",
    "shutil.copy(f\"figs/hp_cm_z/cm_{goal_per_class}_{num_epochs}_{neurons_per_layer}_{num_layers}_p_p07.pdf\", \"figs/fig15_p.pdf\")"
   ]
  },
  {
   "cell_type": "code",
   "execution_count": 26,
   "id": "92e24df5-a3d6-4a83-b6d3-1fcbc998d7eb",
   "metadata": {},
   "outputs": [],
   "source": [
    "# Figure 16 - binary redshift inclusive\n",
    "from superphot_plus.plotting.confusion_matrices import plot_snIa_confusion_matrix\n",
    "plot_snIa_confusion_matrix(probs_classified_z, \"figs/fig16\", p07=False)"
   ]
  },
  {
   "cell_type": "code",
   "execution_count": 27,
   "id": "264eccc5-9ce8-4f76-bb5c-8d5e8553e2c9",
   "metadata": {},
   "outputs": [],
   "source": [
    "# Figure 17 - agreement matrices"
   ]
  },
  {
   "cell_type": "code",
   "execution_count": 28,
   "id": "4cadd8e8-1695-4d5b-a23e-1400ae6c5155",
   "metadata": {
    "tags": []
   },
   "outputs": [
    {
     "ename": "FileNotFoundError",
     "evalue": "[Errno 2] No such file or directory: 'dynesty_fits/ZTF17aabtvsy_eqwt.npz'",
     "output_type": "error",
     "traceback": [
      "\u001b[0;31m---------------------------------------------------------------------------\u001b[0m",
      "\u001b[0;31mFileNotFoundError\u001b[0m                         Traceback (most recent call last)",
      "Cell \u001b[0;32mIn[28], line 4\u001b[0m\n\u001b[1;32m      1\u001b[0m \u001b[38;5;66;03m# Figure 18 - chisquared trends\u001b[39;00m\n\u001b[1;32m      2\u001b[0m \u001b[38;5;28;01mfrom\u001b[39;00m \u001b[38;5;21;01msuperphot_plus\u001b[39;00m\u001b[38;5;21;01m.\u001b[39;00m\u001b[38;5;21;01mplotting\u001b[39;00m\u001b[38;5;21;01m.\u001b[39;00m\u001b[38;5;21;01mclassifier_results\u001b[39;00m \u001b[38;5;28;01mimport\u001b[39;00m plot_chisquared_vs_accuracy\n\u001b[0;32m----> 4\u001b[0m \u001b[43mplot_chisquared_vs_accuracy\u001b[49m\u001b[43m(\u001b[49m\u001b[43mprobs_classified\u001b[49m\u001b[43m,\u001b[49m\u001b[43m \u001b[49m\u001b[43mprobs_unclassified\u001b[49m\u001b[43m,\u001b[49m\u001b[43m \u001b[49m\u001b[43mdynesty_fit_folder\u001b[49m\u001b[43m,\u001b[49m\u001b[43m \u001b[49m\u001b[38;5;124;43m\"\u001b[39;49m\u001b[38;5;124;43mfigs\u001b[39;49m\u001b[38;5;124;43m\"\u001b[39;49m\u001b[43m)\u001b[49m\n",
      "File \u001b[0;32m~/python_repos/superphot-plus/src/superphot_plus/plotting/classifier_results.py:653\u001b[0m, in \u001b[0;36mplot_chisquared_vs_accuracy\u001b[0;34m(pred_spec_fn, pred_phot_fn, fits_dir, save_dir)\u001b[0m\n\u001b[1;32m    650\u001b[0m sn_names, true_classes, _, pred_classes \u001b[38;5;241m=\u001b[39m read_probs_csv(pred_spec_fn)\n\u001b[1;32m    652\u001b[0m correctly_classified \u001b[38;5;241m=\u001b[39m np\u001b[38;5;241m.\u001b[39mwhere(true_classes \u001b[38;5;241m==\u001b[39m pred_classes, \u001b[38;5;241m1\u001b[39m, \u001b[38;5;241m0\u001b[39m)\n\u001b[0;32m--> 653\u001b[0m spec_cubes \u001b[38;5;241m=\u001b[39m \u001b[43mget_multiple_posterior_samples\u001b[49m\u001b[43m(\u001b[49m\u001b[43msn_names\u001b[49m\u001b[43m,\u001b[49m\u001b[43m \u001b[49m\u001b[43mfits_dir\u001b[49m\u001b[43m)\u001b[49m\n\u001b[1;32m    654\u001b[0m train_chis \u001b[38;5;241m=\u001b[39m \u001b[38;5;241m-\u001b[39m\u001b[38;5;241m1\u001b[39m \u001b[38;5;241m*\u001b[39m calculate_neg_chi_squareds(speccubes, t, f, ferr, b)\n\u001b[1;32m    656\u001b[0m sn_names, _, _, _ \u001b[38;5;241m=\u001b[39m read_probs_csv(pred_phot_fn)\n",
      "File \u001b[0;32m~/python_repos/superphot-plus/src/superphot_plus/file_utils.py:77\u001b[0m, in \u001b[0;36mget_multiple_posterior_samples\u001b[0;34m(lc_names, fits_dir, sampler)\u001b[0m\n\u001b[1;32m     75\u001b[0m posterior_samples \u001b[38;5;241m=\u001b[39m {}\n\u001b[1;32m     76\u001b[0m \u001b[38;5;28;01mfor\u001b[39;00m lc_name \u001b[38;5;129;01min\u001b[39;00m np\u001b[38;5;241m.\u001b[39munique(lc_names):\n\u001b[0;32m---> 77\u001b[0m     posterior_samples[lc_name] \u001b[38;5;241m=\u001b[39m \u001b[43mget_posterior_samples\u001b[49m\u001b[43m(\u001b[49m\u001b[43mlc_name\u001b[49m\u001b[43m,\u001b[49m\u001b[43m \u001b[49m\u001b[43mfits_dir\u001b[49m\u001b[43m,\u001b[49m\u001b[43m \u001b[49m\u001b[43msampler\u001b[49m\u001b[43m)\u001b[49m\n\u001b[1;32m     78\u001b[0m \u001b[38;5;28;01mreturn\u001b[39;00m posterior_samples\n",
      "File \u001b[0;32m~/python_repos/superphot-plus/src/superphot_plus/file_utils.py:55\u001b[0m, in \u001b[0;36mget_posterior_samples\u001b[0;34m(lc_name, fits_dir, sampler)\u001b[0m\n\u001b[1;32m     37\u001b[0m \u001b[38;5;250m\u001b[39m\u001b[38;5;124;03m\"\"\"Get all EQUAL WEIGHT posterior samples from a lightcurve fit.\u001b[39;00m\n\u001b[1;32m     38\u001b[0m \n\u001b[1;32m     39\u001b[0m \u001b[38;5;124;03mParameters\u001b[39;00m\n\u001b[0;32m   (...)\u001b[0m\n\u001b[1;32m     51\u001b[0m \u001b[38;5;124;03m    Numpy array containing the posterior samples.\u001b[39;00m\n\u001b[1;32m     52\u001b[0m \u001b[38;5;124;03m\"\"\"\u001b[39;00m\n\u001b[1;32m     53\u001b[0m posterior_filename \u001b[38;5;241m=\u001b[39m get_posterior_filename(lc_name, fits_dir, sampler)\n\u001b[0;32m---> 55\u001b[0m \u001b[38;5;28;01mreturn\u001b[39;00m \u001b[43mnp\u001b[49m\u001b[38;5;241;43m.\u001b[39;49m\u001b[43mload\u001b[49m\u001b[43m(\u001b[49m\u001b[43mposterior_filename\u001b[49m\u001b[43m)\u001b[49m[\u001b[38;5;124m\"\u001b[39m\u001b[38;5;124marr_0\u001b[39m\u001b[38;5;124m\"\u001b[39m]\n",
      "File \u001b[0;32m~/conda_envs/superphot_env/lib/python3.10/site-packages/numpy/lib/npyio.py:427\u001b[0m, in \u001b[0;36mload\u001b[0;34m(file, mmap_mode, allow_pickle, fix_imports, encoding, max_header_size)\u001b[0m\n\u001b[1;32m    425\u001b[0m     own_fid \u001b[38;5;241m=\u001b[39m \u001b[38;5;28;01mFalse\u001b[39;00m\n\u001b[1;32m    426\u001b[0m \u001b[38;5;28;01melse\u001b[39;00m:\n\u001b[0;32m--> 427\u001b[0m     fid \u001b[38;5;241m=\u001b[39m stack\u001b[38;5;241m.\u001b[39menter_context(\u001b[38;5;28;43mopen\u001b[39;49m\u001b[43m(\u001b[49m\u001b[43mos_fspath\u001b[49m\u001b[43m(\u001b[49m\u001b[43mfile\u001b[49m\u001b[43m)\u001b[49m\u001b[43m,\u001b[49m\u001b[43m \u001b[49m\u001b[38;5;124;43m\"\u001b[39;49m\u001b[38;5;124;43mrb\u001b[39;49m\u001b[38;5;124;43m\"\u001b[39;49m\u001b[43m)\u001b[49m)\n\u001b[1;32m    428\u001b[0m     own_fid \u001b[38;5;241m=\u001b[39m \u001b[38;5;28;01mTrue\u001b[39;00m\n\u001b[1;32m    430\u001b[0m \u001b[38;5;66;03m# Code to distinguish from NumPy binary files and pickles.\u001b[39;00m\n",
      "\u001b[0;31mFileNotFoundError\u001b[0m: [Errno 2] No such file or directory: 'dynesty_fits/ZTF17aabtvsy_eqwt.npz'"
     ]
    }
   ],
   "source": [
    "# Figure 18 - chisquared trends\n",
    "from superphot_plus.plotting.classifier_results import plot_chisquared_vs_accuracy\n",
    "\n",
    "plot_chisquared_vs_accuracy(probs_classified, probs_unclassified, dynesty_fit_folder, \"figs\")"
   ]
  },
  {
   "cell_type": "code",
   "execution_count": null,
   "id": "8e18ee0d-8241-4700-92c6-3413a8c53a0f",
   "metadata": {},
   "outputs": [],
   "source": []
  },
  {
   "cell_type": "code",
   "execution_count": null,
   "id": "7b2e5209-2510-43ae-b14d-6590f8f94d43",
   "metadata": {},
   "outputs": [],
   "source": []
  }
 ],
 "metadata": {
  "kernelspec": {
   "display_name": "superphot_env",
   "language": "python",
   "name": "superphot_env"
  },
  "language_info": {
   "codemirror_mode": {
    "name": "ipython",
    "version": 3
   },
   "file_extension": ".py",
   "mimetype": "text/x-python",
   "name": "python",
   "nbconvert_exporter": "python",
   "pygments_lexer": "ipython3",
   "version": "3.10.0"
  }
 },
 "nbformat": 4,
 "nbformat_minor": 5
}
