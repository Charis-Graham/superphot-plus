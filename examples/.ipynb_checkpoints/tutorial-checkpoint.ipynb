{
 "cells": [
  {
   "cell_type": "markdown",
   "id": "a13f6748-5150-4437-befb-614164649b63",
   "metadata": {},
   "source": [
    "# Working with Superphot+"
   ]
  },
  {
   "cell_type": "markdown",
   "id": "edd57d8a-940f-4e1d-8283-1ffeae0f4394",
   "metadata": {},
   "source": [
    "Superphot+ was designed to rapidly fit photometric SN-like light curves to an empirical model for subsequent classification or analysis.\n",
    "This tutorial briefly covers how to import light curves directly from ALeRCE or ANTARES, apply pre-processing for improved quality, and run various sampling methods to fit the light curves."
   ]
  },
  {
   "cell_type": "markdown",
   "id": "c8fd62b8-c395-4a77-b690-ec865e2a4d7b",
   "metadata": {},
   "source": [
    "## Light curve import"
   ]
  },
  {
   "cell_type": "markdown",
   "id": "e5056866-278a-4c2c-a4c0-9b999fbaf019",
   "metadata": {},
   "source": [
    "There are a suite of helper functions in `import_ztf_from_alerce.py` to import photometric light curves from the ALeRCE or ANTARES servers. We will do both here to compare:"
   ]
  },
  {
   "cell_type": "code",
   "execution_count": 5,
   "id": "ed0949b9-b2b7-41b6-92c7-e3a4b25bde2c",
   "metadata": {},
   "outputs": [
    {
     "ename": "SyntaxError",
     "evalue": "invalid syntax (1510424057.py, line 1)",
     "output_type": "error",
     "traceback": [
      "\u001b[0;36m  Cell \u001b[0;32mIn[5], line 1\u001b[0;36m\u001b[0m\n\u001b[0;31m    import ..superphot_plus.import_ztf_from_alerce\u001b[0m\n\u001b[0m           ^\u001b[0m\n\u001b[0;31mSyntaxError\u001b[0m\u001b[0;31m:\u001b[0m invalid syntax\n"
     ]
    }
   ],
   "source": [
    "import ..superphot_plus.import_ztf_from_alerce"
   ]
  },
  {
   "cell_type": "code",
   "execution_count": null,
   "id": "4edfb90d-b5d4-4195-9f11-885c2754aefb",
   "metadata": {},
   "outputs": [],
   "source": []
  },
  {
   "cell_type": "code",
   "execution_count": null,
   "id": "24b54272-40f4-4d44-9e26-a46dcd7a7d55",
   "metadata": {},
   "outputs": [],
   "source": []
  },
  {
   "cell_type": "code",
   "execution_count": null,
   "id": "732e2929-6684-4040-849d-8ff1a89f14b7",
   "metadata": {},
   "outputs": [],
   "source": []
  }
 ],
 "metadata": {
  "kernelspec": {
   "display_name": "Python 3 (ipykernel)",
   "language": "python",
   "name": "python3"
  },
  "language_info": {
   "codemirror_mode": {
    "name": "ipython",
    "version": 3
   },
   "file_extension": ".py",
   "mimetype": "text/x-python",
   "name": "python",
   "nbconvert_exporter": "python",
   "pygments_lexer": "ipython3",
   "version": "3.10.10"
  }
 },
 "nbformat": 4,
 "nbformat_minor": 5
}
