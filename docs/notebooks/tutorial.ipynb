{
 "cells": [
  {
   "cell_type": "markdown",
   "id": "a13f6748-5150-4437-befb-614164649b63",
   "metadata": {},
   "source": [
    "# Working with Superphot+"
   ]
  },
  {
   "cell_type": "markdown",
   "id": "edd57d8a-940f-4e1d-8283-1ffeae0f4394",
   "metadata": {},
   "source": [
    "Superphot+ was designed to rapidly fit photometric SN-like light curves to an empirical model for subsequent classification or analysis.\n",
    "This tutorial briefly covers how to import light curves directly from ALeRCE or ANTARES, apply pre-processing for improved quality, and run various sampling methods to fit the light curves."
   ]
  },
  {
   "cell_type": "markdown",
   "id": "c8fd62b8-c395-4a77-b690-ec865e2a4d7b",
   "metadata": {},
   "source": [
    "## Data Importing and Preprocessing"
   ]
  },
  {
   "cell_type": "markdown",
   "id": "e5056866-278a-4c2c-a4c0-9b999fbaf019",
   "metadata": {},
   "source": [
    "Superphot+ is built on SNAPI (https://github.com/kdesoto-astro/snapi), which provides functionality for easy importing and pre-processing of photometric data from various alert brokers. Here, we use SNAPI to import a ZTF light curve from ALeRCE."
   ]
  },
  {
   "cell_type": "code",
   "execution_count": null,
   "id": "ed0949b9-b2b7-41b6-92c7-e3a4b25bde2c",
   "metadata": {
    "tags": []
   },
   "outputs": [],
   "source": [
    "# All imports/filepaths for this section\n",
    "!pip list\n",
    "import os\n",
    "from pathlib import Path\n",
    "\n",
    "import matplotlib.pyplot as plt\n",
    "import numpy as np\n",
    "from snapi.query_agents import ALeRCEQueryAgent, TNSQueryAgent\n",
    "from snapi import Formatter, Photometry, Transient\n",
    "\n",
    "test_sn = \"2023lkw\"\n",
    "p = Path(os.getcwd()).parents[1]\n",
    "SAVE_DIR = os.path.join(p, \"data\", \"tutorial\")\n",
    "print(SAVE_DIR)\n"
   ]
  },
  {
   "cell_type": "code",
   "execution_count": null,
   "id": "930f40b8",
   "metadata": {},
   "outputs": [],
   "source": [
    "alerce_agent = ALeRCEQueryAgent()\n",
    "tns_agent = TNSQueryAgent(db_path=SAVE_DIR)\n",
    "transient = Transient(iid=test_sn)\n",
    "qr_tns, success = tns_agent.query_transient(transient, local=True) # we dont want spectra\n",
    "for result in qr_tns:\n",
    "    transient.ingest_query_info(result.to_dict())\n",
    "print(transient.internal_names)\n",
    "qr_alerce, success = alerce_agent.query_transient(transient)\n",
    "for result in qr_alerce:\n",
    "    transient.ingest_query_info(result.to_dict())"
   ]
  },
  {
   "cell_type": "code",
   "execution_count": null,
   "id": "4edfb90d-b5d4-4195-9f11-885c2754aefb",
   "metadata": {
    "tags": []
   },
   "outputs": [],
   "source": [
    "# plot imported LC\n",
    "photometry = transient.photometry\n",
    "formatter = Formatter()\n",
    "fig, ax = plt.subplots()\n",
    "\n",
    "photometry.plot(ax, mags=False)\n",
    "formatter.add_legend(ax)\n",
    "formatter.make_plot_pretty(ax)\n",
    "plt.show()"
   ]
  },
  {
   "cell_type": "markdown",
   "id": "cdaea924",
   "metadata": {},
   "source": [
    "Here, the nondetections are marked as semi-transparent upper-limits, with the detections shown opaque wih uncertainty margins. Superphot+ currently only works with detections.\n",
    "\n",
    "Let's phase/normalize the light curve and correct for extinction. Note that, for the Superphot+ samplers, the photometry MUST be phased and normalized to be fit correctly."
   ]
  },
  {
   "cell_type": "code",
   "execution_count": null,
   "id": "c6825be1",
   "metadata": {},
   "outputs": [],
   "source": [
    "photometry.phase(inplace=True)\n",
    "photometry.normalize(inplace=True)\n",
    "photometry.correct_extinction(coordinates=transient.coordinates, inplace=True)\n",
    "transient.photometry = photometry\n",
    "\n",
    "fig, ax = plt.subplots()\n",
    "\n",
    "photometry.plot(ax, mags=False)\n",
    "formatter.add_legend(ax)\n",
    "formatter.make_plot_pretty(ax)\n",
    "plt.show()\n"
   ]
  },
  {
   "cell_type": "markdown",
   "id": "038afc46",
   "metadata": {},
   "source": [
    "Now let's save this file for later use:"
   ]
  },
  {
   "cell_type": "code",
   "execution_count": null,
   "id": "b0c59b8b",
   "metadata": {},
   "outputs": [],
   "source": [
    "transient.save(\n",
    "    os.path.join(SAVE_DIR, test_sn)\n",
    ")"
   ]
  },
  {
   "cell_type": "markdown",
   "id": "f774b557",
   "metadata": {},
   "source": [
    "For our numpyro samplers, we need to pad all bands to have the same number of points. To do this, we create a padded variant of our transient photometry:"
   ]
  },
  {
   "cell_type": "code",
   "execution_count": null,
   "id": "17398be6",
   "metadata": {},
   "outputs": [],
   "source": [
    "transient = Transient.load(\n",
    "    os.path.join(SAVE_DIR, test_sn),\n",
    ")\n",
    "\n",
    "n_pad = int(2**np.ceil(np.log2(len(transient.photometry.detections))))\n",
    "\n",
    "padded_lcs = set()\n",
    "fill = {'phase': 1000., 'flux': 0.1, 'flux_unc': 1000., 'zpt': 23.90, 'non_detections': False}\n",
    "\n",
    "padded_lcs = []\n",
    "for lc in transient.photometry.light_curves:\n",
    "    padded_lc=lc.pad(fill, n_pad - len(lc.detections))\n",
    "    padded_lcs.append(padded_lc)\n",
    "\n",
    "padded_photometry = Photometry.from_light_curves(padded_lcs)\n",
    "transient.photometry = padded_photometry\n",
    "transient.save(\n",
    "    os.path.join(SAVE_DIR, test_sn+\"_padded\")\n",
    ")\n",
    "formatter = Formatter()\n",
    "fig, ax = plt.subplots()\n",
    "padded_photometry.plot(ax, mags=False)\n",
    "formatter.add_legend(ax)\n",
    "formatter.make_plot_pretty(ax)\n",
    "plt.show()\n"
   ]
  },
  {
   "cell_type": "markdown",
   "id": "85ab280b-d034-4840-945c-4d7c98c5bb02",
   "metadata": {},
   "source": [
    "## Fitting Light Curves"
   ]
  },
  {
   "cell_type": "code",
   "execution_count": null,
   "id": "567d7ae5",
   "metadata": {},
   "outputs": [],
   "source": [
    "# All imports for this section\n",
    "import os\n",
    "from pathlib import Path\n",
    "\n",
    "import matplotlib.pyplot as plt\n",
    "from snapi import Transient, Formatter, SamplerResult\n",
    "\n",
    "from superphot_plus.samplers import DynestySampler, NUTSSampler, SVISampler\n",
    "from superphot_plus.priors import generate_priors, SuperphotPrior\n",
    "\n",
    "p = Path(os.getcwd()).parents[1]\n",
    "SAVE_DIR = os.path.join(p, \"data\", \"tutorial\")\n",
    "\n",
    "test_sn = \"2023lkw\""
   ]
  },
  {
   "cell_type": "markdown",
   "id": "e4e8d1af-484f-4f33-8c5a-c740d85e9e1c",
   "metadata": {},
   "source": [
    "There are a few sampling techniques implemented for rapid fitting of light curves:\n",
    "* Nested sampling (`dynesty`) constrains the posterior space with nested ellipsoids of increasing density.\n",
    "* Advanced HMC with the NUTS sampler (using `numpyro`) uses Hamiltonian Monte Carlo sampling but without U-turns to increase sampling efficiency.\n",
    "* Stochastic variational inference (SVI; also using `numpyro`) approximates the marginal distributions for each fit as Gaussians, which sacrifices precision for much faster runtime. Recommended for realtime applications.\n",
    "\n",
    "Let's use each to fit our test light curve:"
   ]
  },
  {
   "cell_type": "code",
   "execution_count": null,
   "id": "9593ee13-8892-4798-9a35-59a7d8d3a8cd",
   "metadata": {
    "tags": []
   },
   "outputs": [],
   "source": [
    "fn_to_fit = os.path.join(SAVE_DIR, test_sn)\n",
    "transient = Transient.load(fn_to_fit)\n",
    "photometry = transient.photometry\n",
    "priors = generate_priors([\"ZTF_r\",\"ZTF_g\"])"
   ]
  },
  {
   "cell_type": "code",
   "execution_count": null,
   "id": "3edff38d-468c-45bc-8664-7d4dea566fee",
   "metadata": {
    "tags": []
   },
   "outputs": [],
   "source": [
    "%%time\n",
    "\n",
    "sampler = DynestySampler(\n",
    "    priors=priors,\n",
    "    random_state=42,\n",
    "    verbose=True,\n",
    "    nlive=100,\n",
    ")\n",
    "sampler.fit_photometry(photometry)\n",
    "sampler.result.save(\n",
    "    os.path.join(SAVE_DIR, test_sn+f\"_{sampler.name}\")\n",
    ")\n",
    "print(\"Nested sampling\")\n",
    "print(sampler.result.fit_parameters.head())"
   ]
  },
  {
   "cell_type": "code",
   "execution_count": null,
   "id": "d764fdea-1863-4b75-8568-e5d903017ec9",
   "metadata": {
    "tags": []
   },
   "outputs": [],
   "source": [
    "%%time\n",
    "\n",
    "# use padded photometry\n",
    "padded_fn = os.path.join(SAVE_DIR, test_sn + \"_padded\")\n",
    "pad_transient = Transient.load(padded_fn)\n",
    "pad_photometry = pad_transient.photometry\n",
    "\n",
    "sampler = NUTSSampler(\n",
    "    priors=priors,\n",
    "    num_chains=1,\n",
    "    num_warmup=5000,\n",
    "    num_samples=1000,\n",
    "    random_state=42\n",
    ")\n",
    "sampler.fit_photometry(pad_photometry)\n",
    "sampler.result.save(\n",
    "    os.path.join(SAVE_DIR, test_sn+f\"_{sampler.name}\")\n",
    ")\n",
    "print(\"NUTS\")\n",
    "print(sampler.result.fit_parameters.head())"
   ]
  },
  {
   "cell_type": "code",
   "execution_count": null,
   "id": "7300dc51-9c97-413f-9a7f-9b6747ce1d19",
   "metadata": {
    "tags": []
   },
   "outputs": [],
   "source": [
    "%%time\n",
    "\n",
    "# use padded photometry: only necessary if you're planning on running repeatedly on different events\n",
    "# if one-time fit, feel free to not use padding\n",
    "padded_fn = os.path.join(SAVE_DIR, test_sn + \"_padded\")\n",
    "pad_transient = Transient.load(padded_fn)\n",
    "pad_photometry = pad_transient.photometry\n",
    "\n",
    "sampler = SVISampler(\n",
    "    priors=priors,\n",
    "    num_iter=10_000,\n",
    "    random_state=42,\n",
    ")\n",
    "sampler.fit_photometry(pad_photometry)\n",
    "sampler.result.save(\n",
    "    os.path.join(SAVE_DIR, test_sn+f\"_{sampler.name}\")\n",
    ")\n",
    "print(\"SVI\")\n",
    "print(sampler.result.fit_parameters.head())"
   ]
  },
  {
   "cell_type": "code",
   "execution_count": null,
   "id": "e0a90cd3",
   "metadata": {},
   "outputs": [],
   "source": [
    "# NEW!!! Hierarchical SVI - uses better priorss\n",
    "priors = SuperphotPrior.load(os.path.join(SAVE_DIR, \"global_priors_hier_svi\"))\n",
    "padded_fn = os.path.join(SAVE_DIR, test_sn + \"_padded\")\n",
    "pad_transient = Transient.load(padded_fn)\n",
    "pad_photometry = pad_transient.photometry\n",
    "\n",
    "sampler = SVISampler(\n",
    "    priors=priors,\n",
    "    num_iter=10_000,\n",
    "    random_state=42,\n",
    ")\n",
    "sampler.fit_photometry(pad_photometry)\n",
    "sampler.result.save(\n",
    "    os.path.join(SAVE_DIR, test_sn+f\"_{sampler.name}_hierarchical\")\n",
    ")\n",
    "print(\"SVI\")\n",
    "print(sampler.result.fit_parameters.head())"
   ]
  },
  {
   "cell_type": "markdown",
   "id": "e825f18b-aea8-4f41-8db2-89d75868c89a",
   "metadata": {},
   "source": [
    "Now, let's plot each fit to compare results!"
   ]
  },
  {
   "cell_type": "code",
   "execution_count": null,
   "id": "2b1f8c49-add8-4674-918a-5e3a50b9147a",
   "metadata": {},
   "outputs": [],
   "source": [
    "fn_to_fit = os.path.join(SAVE_DIR, test_sn)\n",
    "transient = Transient.load(fn_to_fit)\n",
    "photometry = transient.photometry\n",
    "priors = generate_priors([\"ZTF_r\",\"ZTF_g\"])\n",
    "\n",
    "fig, ax = plt.subplots()\n",
    "formatter = Formatter()\n",
    "dsampler = DynestySampler(priors=priors)\n",
    "nsampler = NUTSSampler(priors=priors)\n",
    "ssampler = SVISampler(priors=priors)\n",
    "for sampler in [dsampler, nsampler, ssampler]:\n",
    "    sr = SamplerResult.load(os.path.join(SAVE_DIR, test_sn+f\"_{sampler.name}\"))\n",
    "    sampler.load_result(sr)\n",
    "    ax = sampler.plot_fit(\n",
    "        ax, formatter,\n",
    "        photometry,\n",
    "    )\n",
    "sr = SamplerResult.load(os.path.join(SAVE_DIR, test_sn+f\"_{ssampler.name}_hierarchical\"))\n",
    "ssampler.load_result(sr)\n",
    "ax = ssampler.plot_fit(\n",
    "    ax, formatter,\n",
    "    photometry,\n",
    ")\n",
    "\n",
    "photometry.plot(ax, formatter, mags=False)\n",
    "ax.set_ylim((-0.1, 1.3))\n",
    "formatter.add_legend(ax)\n",
    "formatter.make_plot_pretty(ax)\n",
    "plt.show()\n"
   ]
  },
  {
   "cell_type": "markdown",
   "id": "15710919-15a0-4a2c-a450-5ae5f2b25366",
   "metadata": {},
   "source": [
    "All three fits look decent, differing most in the r-band fit. Note how the hierarchical SVI fit does better than the one from default priors for the same number of training iterations. Let's examine the plateau durations for each sampler:"
   ]
  },
  {
   "cell_type": "code",
   "execution_count": null,
   "id": "bba16cc5-9047-4998-a0c3-874ebc8fa9b8",
   "metadata": {
    "tags": []
   },
   "outputs": [],
   "source": [
    "for sampler_name in [\"superphot_dynesty\", \"superphot_svi\", \"superphot_nuts\", \"superphot_svi_hierarchical\"]:\n",
    "    sr = SamplerResult.load(os.path.join(SAVE_DIR, test_sn+f\"_{sampler_name}\"))\n",
    "    fit_params = sr.fit_parameters\n",
    "    # param naming convention: {paramname}_{filter}\n",
    "    plt.hist(fit_params[\"gamma_ZTF_r\"], alpha=0.5, label=sampler_name, density=True)\n",
    "\n",
    "plt.xlabel(\"gamma_ZTF_r\")\n",
    "plt.legend()\n",
    "plt.show()"
   ]
  },
  {
   "cell_type": "markdown",
   "id": "ceff99d2-ab2a-4186-a7f0-72c0fd3660e2",
   "metadata": {},
   "source": [
    "## Classification"
   ]
  },
  {
   "cell_type": "markdown",
   "id": "5fed51fa-cb23-4475-8b31-581b3c463501",
   "metadata": {},
   "source": [
    "Superphot+ uses the resulting fit parameters as input features for a LightGBM classifier. We can call the model's evaluate() function to return probabilities of the object being each of 5 major supernova types. But first, we convert our auxiliary-band and log-Gaussian parameters back to Gaussian relative values, for better normalization before classification."
   ]
  },
  {
   "cell_type": "code",
   "execution_count": null,
   "id": "219ff968-cdcd-401c-ae07-dcb0808d26ea",
   "metadata": {
    "tags": []
   },
   "outputs": [],
   "source": [
    "import os\n",
    "import numpy as np\n",
    "from superphot_plus.priors import generate_priors\n",
    "from superphot_plus.supernova_class import SupernovaClass\n",
    "from superphot_plus.model import SuperphotLightGBM\n",
    "from snapi import SamplerResult\n",
    "from pathlib import Path\n",
    "\n",
    "p = Path(os.getcwd()).parents[1]\n",
    "SAVE_DIR = os.path.join(p, \"data\", \"tutorial\")\n",
    "test_sn = \"2023lkw\"\n"
   ]
  },
  {
   "cell_type": "code",
   "execution_count": null,
   "id": "7375817f",
   "metadata": {},
   "outputs": [],
   "source": [
    "\n",
    "model_fn = os.path.join(SAVE_DIR, \"model_superphot_full.pt\")\n",
    "# if from the full train workflow notebook, use below:\n",
    "#model_fn = os.path.join(SAVE_DIR, \"models/model_superphot_svi_LightGBM_None_False_25_None_10_100_42_0.pt\")\n",
    "full_model = SuperphotLightGBM.load(model_fn)\n",
    "\n",
    "priors = generate_priors([\"ZTF_r\",\"ZTF_g\"])\n",
    "sr = SamplerResult.load(os.path.join(SAVE_DIR, test_sn+f\"_superphot_nuts\"))\n",
    "\n",
    "# convert fit parameters back to uncorrelated Gaussian draws\n",
    "uncorr_fits = priors.reverse_transform(sr.fit_parameters)\n",
    "\n",
    "# fix index for groupby() operations within model.evaluate()\n",
    "uncorr_fits.index = [test_sn,] * len(uncorr_fits)\n",
    "\n",
    "# exclude A_ZTF_r and t_0_ZTF_r - that's how the model was initially trained!\n",
    "uncorr_fits.drop(\n",
    "    columns=['A_ZTF_r', 't_0_ZTF_r'],\n",
    "    inplace=True\n",
    ")\n",
    "print(uncorr_fits.median(axis=0))\n",
    "\n",
    "# use full-phase classifier\n",
    "probs_avg = full_model.evaluate(uncorr_fits)\n",
    "probs_avg.columns = np.sort(['SN Ia', 'SN Ibc', 'SN II', 'SN IIn', 'SLSN-I'])\n",
    "# if modeled was trained with SN Ibn class, use below:\n",
    "#probs_avg.columns = np.sort(['SN Ia', 'SN Ibc', 'SN II', 'SN IIn', 'SLSN-I', 'SN Ibn'])\n",
    "# get predicted SN class and output probability of that classification\n",
    "pred_class = probs_avg.idxmax(axis=1).iloc[0]\n",
    "print(probs_avg, pred_class)"
   ]
  },
  {
   "cell_type": "markdown",
   "id": "2a57cba5",
   "metadata": {},
   "source": [
    "Looking at the TNS page, we see that 2023lkw is indeed a SN II. For an example on how to use the built-in SuperphotTrainer class, see the full train workflow notebook. To include more SN classes, please train a new model."
   ]
  },
  {
   "cell_type": "markdown",
   "id": "d255374b",
   "metadata": {},
   "source": []
  }
 ],
 "metadata": {
  "kernelspec": {
   "display_name": "superphot",
   "language": "python",
   "name": "python3"
  },
  "language_info": {
   "codemirror_mode": {
    "name": "ipython",
    "version": 3
   },
   "file_extension": ".py",
   "mimetype": "text/x-python",
   "name": "python",
   "nbconvert_exporter": "python",
   "pygments_lexer": "ipython3",
   "version": "3.10.13"
  }
 },
 "nbformat": 4,
 "nbformat_minor": 5
}
